{
 "cells": [
  {
   "cell_type": "markdown",
   "metadata": {},
   "source": [
    "# Tabla de Contenidos\n",
    "\n",
    "1. Descripción de proyecto\n",
    "2. Inicialización\n",
    "3. Cargar datos\n",
    "4. Procesamientos de datos\n",
    "\n",
    "\n",
    "    4.1 Valores nulos\n",
    "    4.2 Valores duplicados \n",
    "    \n",
    "    \n",
    "5. Analisis exploratorio de los datos\n",
    "6. Comparación del grupo de control y el grupo de prueba\n",
    "\n",
    "\n",
    "    6.1 Prueba t-student\n",
    "    6.2 Prueba Z\n",
    "    \n",
    "    \n",
    "7. Conclusiones"
   ]
  },
  {
   "cell_type": "markdown",
   "metadata": {},
   "source": [
    "## Descripción de proyectos"
   ]
  },
  {
   "cell_type": "markdown",
   "metadata": {},
   "source": [
    "Hemos recibido una tarea analítica de una tienda en línea internacional. Nuestros predecesores no consiguieron completarla: lanzaron una prueba A/B y luego abandonaron. Solo dejaron las especificaciones técnicas y los resultados de las pruebas.\n",
    "\n",
    "**Descripción técnica**  \n",
    "- Nombre de la prueba: recommender_system_test\n",
    "- Grupos: А (control), B (nuevo embudo de pago)\n",
    "- Launch date: 2020-12-07\n",
    "- Fecha en la que dejaron de aceptar nuevos usuarios: 2020-12-21\n",
    "- Fecha de finalización: 2021-01-01\n",
    "- Audiencia: 15% de los nuevos usuarios de la región de la UE\n",
    "- Propósito de la prueba: probar cambios relacionados con la introducción de un sistema de recomendaciones mejorado\n",
    "- Resultado esperado: dentro de los 14 días posteriores a la inscripción, los usuarios mostrarán una mejor conversión en vistas de la página del producto (el evento product_page), instancias de agregar artículos al carrito de compras (product_card) y compras (purchase). En cada etapa del embudo product_page → product_card → purchase, habrá al menos un 10% de aumento.\n",
    "- Número previsto de participantes de la prueba: 6 000"
   ]
  },
  {
   "cell_type": "markdown",
   "metadata": {},
   "source": [
    "## Inicialización"
   ]
  },
  {
   "cell_type": "markdown",
   "metadata": {},
   "source": [
    "\n",
    "En esta sección vamos a cargar las librerías para el estudio"
   ]
  },
  {
   "cell_type": "code",
   "execution_count": 87,
   "metadata": {},
   "outputs": [],
   "source": [
    "import pandas as pd\n",
    "import statsmodels.api as sm\n",
    "import datetime as dt\n",
    "import matplotlib.pyplot as plt\n",
    "import seaborn as sns\n",
    "import numpy as np\n",
    "from scipy import stats as st"
   ]
  },
  {
   "cell_type": "markdown",
   "metadata": {},
   "source": [
    "## Cargar datos"
   ]
  },
  {
   "cell_type": "code",
   "execution_count": 88,
   "metadata": {},
   "outputs": [],
   "source": [
    "# creamos el dataframe que contiene el calendario de eventos de marketing para 2020\n",
    "ab_project_marketing_event_us=pd.read_csv('/datasets/ab_project_marketing_events_us.csv',sep=',',parse_dates=['start_dt','finish_dt'])"
   ]
  },
  {
   "cell_type": "code",
   "execution_count": 89,
   "metadata": {},
   "outputs": [
    {
     "name": "stdout",
     "output_type": "stream",
     "text": [
      "<class 'pandas.core.frame.DataFrame'>\n",
      "RangeIndex: 14 entries, 0 to 13\n",
      "Data columns (total 4 columns):\n",
      " #   Column     Non-Null Count  Dtype         \n",
      "---  ------     --------------  -----         \n",
      " 0   name       14 non-null     object        \n",
      " 1   regions    14 non-null     object        \n",
      " 2   start_dt   14 non-null     datetime64[ns]\n",
      " 3   finish_dt  14 non-null     datetime64[ns]\n",
      "dtypes: datetime64[ns](2), object(2)\n",
      "memory usage: 576.0+ bytes\n"
     ]
    }
   ],
   "source": [
    "ab_project_marketing_event_us.info()"
   ]
  },
  {
   "cell_type": "code",
   "execution_count": 90,
   "metadata": {},
   "outputs": [
    {
     "data": {
      "text/html": [
       "<div>\n",
       "<style scoped>\n",
       "    .dataframe tbody tr th:only-of-type {\n",
       "        vertical-align: middle;\n",
       "    }\n",
       "\n",
       "    .dataframe tbody tr th {\n",
       "        vertical-align: top;\n",
       "    }\n",
       "\n",
       "    .dataframe thead th {\n",
       "        text-align: right;\n",
       "    }\n",
       "</style>\n",
       "<table border=\"1\" class=\"dataframe\">\n",
       "  <thead>\n",
       "    <tr style=\"text-align: right;\">\n",
       "      <th></th>\n",
       "      <th>name</th>\n",
       "      <th>regions</th>\n",
       "      <th>start_dt</th>\n",
       "      <th>finish_dt</th>\n",
       "    </tr>\n",
       "  </thead>\n",
       "  <tbody>\n",
       "    <tr>\n",
       "      <th>0</th>\n",
       "      <td>Christmas&amp;New Year Promo</td>\n",
       "      <td>EU, N.America</td>\n",
       "      <td>2020-12-25</td>\n",
       "      <td>2021-01-03</td>\n",
       "    </tr>\n",
       "    <tr>\n",
       "      <th>1</th>\n",
       "      <td>St. Valentine's Day Giveaway</td>\n",
       "      <td>EU, CIS, APAC, N.America</td>\n",
       "      <td>2020-02-14</td>\n",
       "      <td>2020-02-16</td>\n",
       "    </tr>\n",
       "    <tr>\n",
       "      <th>2</th>\n",
       "      <td>St. Patric's Day Promo</td>\n",
       "      <td>EU, N.America</td>\n",
       "      <td>2020-03-17</td>\n",
       "      <td>2020-03-19</td>\n",
       "    </tr>\n",
       "    <tr>\n",
       "      <th>3</th>\n",
       "      <td>Easter Promo</td>\n",
       "      <td>EU, CIS, APAC, N.America</td>\n",
       "      <td>2020-04-12</td>\n",
       "      <td>2020-04-19</td>\n",
       "    </tr>\n",
       "    <tr>\n",
       "      <th>4</th>\n",
       "      <td>4th of July Promo</td>\n",
       "      <td>N.America</td>\n",
       "      <td>2020-07-04</td>\n",
       "      <td>2020-07-11</td>\n",
       "    </tr>\n",
       "  </tbody>\n",
       "</table>\n",
       "</div>"
      ],
      "text/plain": [
       "                           name                   regions   start_dt  \\\n",
       "0      Christmas&New Year Promo             EU, N.America 2020-12-25   \n",
       "1  St. Valentine's Day Giveaway  EU, CIS, APAC, N.America 2020-02-14   \n",
       "2        St. Patric's Day Promo             EU, N.America 2020-03-17   \n",
       "3                  Easter Promo  EU, CIS, APAC, N.America 2020-04-12   \n",
       "4             4th of July Promo                 N.America 2020-07-04   \n",
       "\n",
       "   finish_dt  \n",
       "0 2021-01-03  \n",
       "1 2020-02-16  \n",
       "2 2020-03-19  \n",
       "3 2020-04-19  \n",
       "4 2020-07-11  "
      ]
     },
     "execution_count": 90,
     "metadata": {},
     "output_type": "execute_result"
    }
   ],
   "source": [
    "# mostramos el calendario de eventos\n",
    "ab_project_marketing_event_us.head()"
   ]
  },
  {
   "cell_type": "markdown",
   "metadata": {},
   "source": [
    "---\n",
    "Estructura ab_project_marketing_events_us.csv:\n",
    "- name: el nombre del evento de marketing\n",
    "- regions: regiones donde se llevará a cabo la campaña publicitaria\n",
    "- start_dt: fecha de inicio de la campaña\n",
    "- finish_dt: fecha de finalización de la campaña"
   ]
  },
  {
   "cell_type": "code",
   "execution_count": 91,
   "metadata": {},
   "outputs": [],
   "source": [
    "final_ab_new_users_upd_us=pd.read_csv('/datasets/final_ab_new_users_upd_us.csv',sep=',',parse_dates=['first_date'])"
   ]
  },
  {
   "cell_type": "code",
   "execution_count": 92,
   "metadata": {},
   "outputs": [
    {
     "name": "stdout",
     "output_type": "stream",
     "text": [
      "<class 'pandas.core.frame.DataFrame'>\n",
      "RangeIndex: 58703 entries, 0 to 58702\n",
      "Data columns (total 4 columns):\n",
      " #   Column      Non-Null Count  Dtype         \n",
      "---  ------      --------------  -----         \n",
      " 0   user_id     58703 non-null  object        \n",
      " 1   first_date  58703 non-null  datetime64[ns]\n",
      " 2   region      58703 non-null  object        \n",
      " 3   device      58703 non-null  object        \n",
      "dtypes: datetime64[ns](1), object(3)\n",
      "memory usage: 1.8+ MB\n"
     ]
    }
   ],
   "source": [
    "# mostramos información general de los usuarios registrados\n",
    "final_ab_new_users_upd_us.info()"
   ]
  },
  {
   "cell_type": "code",
   "execution_count": 93,
   "metadata": {},
   "outputs": [
    {
     "data": {
      "text/html": [
       "<div>\n",
       "<style scoped>\n",
       "    .dataframe tbody tr th:only-of-type {\n",
       "        vertical-align: middle;\n",
       "    }\n",
       "\n",
       "    .dataframe tbody tr th {\n",
       "        vertical-align: top;\n",
       "    }\n",
       "\n",
       "    .dataframe thead th {\n",
       "        text-align: right;\n",
       "    }\n",
       "</style>\n",
       "<table border=\"1\" class=\"dataframe\">\n",
       "  <thead>\n",
       "    <tr style=\"text-align: right;\">\n",
       "      <th></th>\n",
       "      <th>user_id</th>\n",
       "      <th>first_date</th>\n",
       "      <th>region</th>\n",
       "      <th>device</th>\n",
       "    </tr>\n",
       "  </thead>\n",
       "  <tbody>\n",
       "    <tr>\n",
       "      <th>0</th>\n",
       "      <td>D72A72121175D8BE</td>\n",
       "      <td>2020-12-07</td>\n",
       "      <td>EU</td>\n",
       "      <td>PC</td>\n",
       "    </tr>\n",
       "    <tr>\n",
       "      <th>1</th>\n",
       "      <td>F1C668619DFE6E65</td>\n",
       "      <td>2020-12-07</td>\n",
       "      <td>N.America</td>\n",
       "      <td>Android</td>\n",
       "    </tr>\n",
       "    <tr>\n",
       "      <th>2</th>\n",
       "      <td>2E1BF1D4C37EA01F</td>\n",
       "      <td>2020-12-07</td>\n",
       "      <td>EU</td>\n",
       "      <td>PC</td>\n",
       "    </tr>\n",
       "    <tr>\n",
       "      <th>3</th>\n",
       "      <td>50734A22C0C63768</td>\n",
       "      <td>2020-12-07</td>\n",
       "      <td>EU</td>\n",
       "      <td>iPhone</td>\n",
       "    </tr>\n",
       "    <tr>\n",
       "      <th>4</th>\n",
       "      <td>E1BDDCE0DAFA2679</td>\n",
       "      <td>2020-12-07</td>\n",
       "      <td>N.America</td>\n",
       "      <td>iPhone</td>\n",
       "    </tr>\n",
       "  </tbody>\n",
       "</table>\n",
       "</div>"
      ],
      "text/plain": [
       "            user_id first_date     region   device\n",
       "0  D72A72121175D8BE 2020-12-07         EU       PC\n",
       "1  F1C668619DFE6E65 2020-12-07  N.America  Android\n",
       "2  2E1BF1D4C37EA01F 2020-12-07         EU       PC\n",
       "3  50734A22C0C63768 2020-12-07         EU   iPhone\n",
       "4  E1BDDCE0DAFA2679 2020-12-07  N.America   iPhone"
      ]
     },
     "execution_count": 93,
     "metadata": {},
     "output_type": "execute_result"
    }
   ],
   "source": [
    "# mostramos parte de los usuarios registrados\n",
    "final_ab_new_users_upd_us.head()"
   ]
  },
  {
   "cell_type": "markdown",
   "metadata": {},
   "source": [
    "---\n",
    "Estructura final_ab_new_users_upd_us.csv:\n",
    "- user_id\n",
    "- first_date: fecha de inscripción\n",
    "- region\n",
    "- device: dispositivo utilizado para la inscripción"
   ]
  },
  {
   "cell_type": "code",
   "execution_count": 94,
   "metadata": {},
   "outputs": [],
   "source": [
    "final_ab_events_upd_us=pd.read_csv('/datasets/final_ab_events_upd_us.csv',sep=',',parse_dates=['event_dt'])"
   ]
  },
  {
   "cell_type": "code",
   "execution_count": 95,
   "metadata": {},
   "outputs": [
    {
     "name": "stdout",
     "output_type": "stream",
     "text": [
      "<class 'pandas.core.frame.DataFrame'>\n",
      "RangeIndex: 423761 entries, 0 to 423760\n",
      "Data columns (total 4 columns):\n",
      " #   Column      Non-Null Count   Dtype         \n",
      "---  ------      --------------   -----         \n",
      " 0   user_id     423761 non-null  object        \n",
      " 1   event_dt    423761 non-null  datetime64[ns]\n",
      " 2   event_name  423761 non-null  object        \n",
      " 3   details     60314 non-null   float64       \n",
      "dtypes: datetime64[ns](1), float64(1), object(2)\n",
      "memory usage: 12.9+ MB\n"
     ]
    }
   ],
   "source": [
    "# mostramos información general de los eventos de los usuarios\n",
    "final_ab_events_upd_us.info()"
   ]
  },
  {
   "cell_type": "code",
   "execution_count": 96,
   "metadata": {},
   "outputs": [
    {
     "data": {
      "text/html": [
       "<div>\n",
       "<style scoped>\n",
       "    .dataframe tbody tr th:only-of-type {\n",
       "        vertical-align: middle;\n",
       "    }\n",
       "\n",
       "    .dataframe tbody tr th {\n",
       "        vertical-align: top;\n",
       "    }\n",
       "\n",
       "    .dataframe thead th {\n",
       "        text-align: right;\n",
       "    }\n",
       "</style>\n",
       "<table border=\"1\" class=\"dataframe\">\n",
       "  <thead>\n",
       "    <tr style=\"text-align: right;\">\n",
       "      <th></th>\n",
       "      <th>user_id</th>\n",
       "      <th>event_dt</th>\n",
       "      <th>event_name</th>\n",
       "      <th>details</th>\n",
       "    </tr>\n",
       "  </thead>\n",
       "  <tbody>\n",
       "    <tr>\n",
       "      <th>0</th>\n",
       "      <td>E1BDDCE0DAFA2679</td>\n",
       "      <td>2020-12-07 20:22:03</td>\n",
       "      <td>purchase</td>\n",
       "      <td>99.99</td>\n",
       "    </tr>\n",
       "    <tr>\n",
       "      <th>1</th>\n",
       "      <td>7B6452F081F49504</td>\n",
       "      <td>2020-12-07 09:22:53</td>\n",
       "      <td>purchase</td>\n",
       "      <td>9.99</td>\n",
       "    </tr>\n",
       "    <tr>\n",
       "      <th>2</th>\n",
       "      <td>9CD9F34546DF254C</td>\n",
       "      <td>2020-12-07 12:59:29</td>\n",
       "      <td>purchase</td>\n",
       "      <td>4.99</td>\n",
       "    </tr>\n",
       "    <tr>\n",
       "      <th>3</th>\n",
       "      <td>96F27A054B191457</td>\n",
       "      <td>2020-12-07 04:02:40</td>\n",
       "      <td>purchase</td>\n",
       "      <td>4.99</td>\n",
       "    </tr>\n",
       "    <tr>\n",
       "      <th>4</th>\n",
       "      <td>1FD7660FDF94CA1F</td>\n",
       "      <td>2020-12-07 10:15:09</td>\n",
       "      <td>purchase</td>\n",
       "      <td>4.99</td>\n",
       "    </tr>\n",
       "  </tbody>\n",
       "</table>\n",
       "</div>"
      ],
      "text/plain": [
       "            user_id            event_dt event_name  details\n",
       "0  E1BDDCE0DAFA2679 2020-12-07 20:22:03   purchase    99.99\n",
       "1  7B6452F081F49504 2020-12-07 09:22:53   purchase     9.99\n",
       "2  9CD9F34546DF254C 2020-12-07 12:59:29   purchase     4.99\n",
       "3  96F27A054B191457 2020-12-07 04:02:40   purchase     4.99\n",
       "4  1FD7660FDF94CA1F 2020-12-07 10:15:09   purchase     4.99"
      ]
     },
     "execution_count": 96,
     "metadata": {},
     "output_type": "execute_result"
    }
   ],
   "source": [
    "# mostramos parte de los eventos de los usuarios\n",
    "final_ab_events_upd_us.head()"
   ]
  },
  {
   "cell_type": "markdown",
   "metadata": {},
   "source": [
    "---\n",
    "Estructura final_ab_events_upd_us.csv:\n",
    "- user_id\n",
    "- event_dt: fecha y hora del evento\n",
    "- event_name: nombre del tipo de evento\n",
    "- details: datos adicionales sobre el evento (por ejemplo, el pedido total en USD para los eventos purchase)"
   ]
  },
  {
   "cell_type": "code",
   "execution_count": 97,
   "metadata": {},
   "outputs": [],
   "source": [
    "final_ab_participants_upd_us=pd.read_csv('/datasets/final_ab_participants_upd_us.csv',sep=',')"
   ]
  },
  {
   "cell_type": "code",
   "execution_count": 98,
   "metadata": {},
   "outputs": [
    {
     "name": "stdout",
     "output_type": "stream",
     "text": [
      "<class 'pandas.core.frame.DataFrame'>\n",
      "RangeIndex: 14525 entries, 0 to 14524\n",
      "Data columns (total 3 columns):\n",
      " #   Column   Non-Null Count  Dtype \n",
      "---  ------   --------------  ----- \n",
      " 0   user_id  14525 non-null  object\n",
      " 1   group    14525 non-null  object\n",
      " 2   ab_test  14525 non-null  object\n",
      "dtypes: object(3)\n",
      "memory usage: 340.6+ KB\n"
     ]
    }
   ],
   "source": [
    "# mostramos información general de los participantes de la prueba\n",
    "final_ab_participants_upd_us.info()"
   ]
  },
  {
   "cell_type": "code",
   "execution_count": 99,
   "metadata": {},
   "outputs": [
    {
     "data": {
      "text/html": [
       "<div>\n",
       "<style scoped>\n",
       "    .dataframe tbody tr th:only-of-type {\n",
       "        vertical-align: middle;\n",
       "    }\n",
       "\n",
       "    .dataframe tbody tr th {\n",
       "        vertical-align: top;\n",
       "    }\n",
       "\n",
       "    .dataframe thead th {\n",
       "        text-align: right;\n",
       "    }\n",
       "</style>\n",
       "<table border=\"1\" class=\"dataframe\">\n",
       "  <thead>\n",
       "    <tr style=\"text-align: right;\">\n",
       "      <th></th>\n",
       "      <th>user_id</th>\n",
       "      <th>group</th>\n",
       "      <th>ab_test</th>\n",
       "    </tr>\n",
       "  </thead>\n",
       "  <tbody>\n",
       "    <tr>\n",
       "      <th>0</th>\n",
       "      <td>D1ABA3E2887B6A73</td>\n",
       "      <td>A</td>\n",
       "      <td>recommender_system_test</td>\n",
       "    </tr>\n",
       "    <tr>\n",
       "      <th>1</th>\n",
       "      <td>A7A3664BD6242119</td>\n",
       "      <td>A</td>\n",
       "      <td>recommender_system_test</td>\n",
       "    </tr>\n",
       "    <tr>\n",
       "      <th>2</th>\n",
       "      <td>DABC14FDDFADD29E</td>\n",
       "      <td>A</td>\n",
       "      <td>recommender_system_test</td>\n",
       "    </tr>\n",
       "    <tr>\n",
       "      <th>3</th>\n",
       "      <td>04988C5DF189632E</td>\n",
       "      <td>A</td>\n",
       "      <td>recommender_system_test</td>\n",
       "    </tr>\n",
       "    <tr>\n",
       "      <th>4</th>\n",
       "      <td>4FF2998A348C484F</td>\n",
       "      <td>A</td>\n",
       "      <td>recommender_system_test</td>\n",
       "    </tr>\n",
       "  </tbody>\n",
       "</table>\n",
       "</div>"
      ],
      "text/plain": [
       "            user_id group                  ab_test\n",
       "0  D1ABA3E2887B6A73     A  recommender_system_test\n",
       "1  A7A3664BD6242119     A  recommender_system_test\n",
       "2  DABC14FDDFADD29E     A  recommender_system_test\n",
       "3  04988C5DF189632E     A  recommender_system_test\n",
       "4  4FF2998A348C484F     A  recommender_system_test"
      ]
     },
     "execution_count": 99,
     "metadata": {},
     "output_type": "execute_result"
    }
   ],
   "source": [
    "# mostramos parte de los participantes de la prueba\n",
    "final_ab_participants_upd_us.head()"
   ]
  },
  {
   "cell_type": "markdown",
   "metadata": {},
   "source": [
    "---\n",
    "Estructura final_ab_participants_upd_us.csv:\n",
    "- user_id\n",
    "- ab_test: nombre de la prueba\n",
    "- group: el grupo de prueba al que pertenecía el usuario"
   ]
  },
  {
   "cell_type": "markdown",
   "metadata": {},
   "source": [
    "## Procesamiento de los datos"
   ]
  },
  {
   "cell_type": "code",
   "execution_count": 100,
   "metadata": {},
   "outputs": [
    {
     "name": "stdout",
     "output_type": "stream",
     "text": [
      "<class 'pandas.core.frame.DataFrame'>\n",
      "RangeIndex: 423761 entries, 0 to 423760\n",
      "Data columns (total 4 columns):\n",
      " #   Column      Non-Null Count   Dtype         \n",
      "---  ------      --------------   -----         \n",
      " 0   user_id     423761 non-null  object        \n",
      " 1   event_dt    423761 non-null  datetime64[ns]\n",
      " 2   event_name  423761 non-null  object        \n",
      " 3   details     60314 non-null   float64       \n",
      "dtypes: datetime64[ns](1), float64(1), object(2)\n",
      "memory usage: 12.9+ MB\n"
     ]
    }
   ],
   "source": [
    "# buscamos los valores nulos en el dataframe de los eventos de los usuarios\n",
    "final_ab_events_upd_us.info()"
   ]
  },
  {
   "cell_type": "markdown",
   "metadata": {},
   "source": [
    "### Valores nulos"
   ]
  },
  {
   "cell_type": "code",
   "execution_count": 101,
   "metadata": {},
   "outputs": [
    {
     "data": {
      "text/plain": [
       "event_name\n",
       "login               0\n",
       "product_cart        0\n",
       "product_page        0\n",
       "purchase        60314\n",
       "Name: details, dtype: int64"
      ]
     },
     "execution_count": 101,
     "metadata": {},
     "output_type": "execute_result"
    }
   ],
   "source": [
    "# buscamos los eventos en los cuales hay valores nulos\n",
    "final_ab_events_upd_us.groupby('event_name')['details'].count()"
   ]
  },
  {
   "cell_type": "markdown",
   "metadata": {},
   "source": [
    "Notamos que los valores no nulos en `'details'` pertenecen al evento `'purchase'`, es decir; no tenemos valores nulos para las compras hechas. Por lo que al parecer no tenemos problemas en los datos."
   ]
  },
  {
   "cell_type": "markdown",
   "metadata": {},
   "source": [
    "### Valores duplicados  \n",
    "Revisamos si tenemos registros duplicados en cada uno de los dataframes."
   ]
  },
  {
   "cell_type": "code",
   "execution_count": 102,
   "metadata": {},
   "outputs": [
    {
     "data": {
      "text/plain": [
       "0"
      ]
     },
     "execution_count": 102,
     "metadata": {},
     "output_type": "execute_result"
    }
   ],
   "source": [
    "# revisamos valores duplicados en el calendario de eventos\n",
    "ab_project_marketing_event_us.duplicated().sum()"
   ]
  },
  {
   "cell_type": "code",
   "execution_count": 103,
   "metadata": {},
   "outputs": [
    {
     "data": {
      "text/plain": [
       "0"
      ]
     },
     "execution_count": 103,
     "metadata": {},
     "output_type": "execute_result"
    }
   ],
   "source": [
    "# revisamos valores duplicados en el dataframe de usuarios registrados\n",
    "final_ab_new_users_upd_us.duplicated().sum()"
   ]
  },
  {
   "cell_type": "code",
   "execution_count": 104,
   "metadata": {},
   "outputs": [
    {
     "data": {
      "text/plain": [
       "0"
      ]
     },
     "execution_count": 104,
     "metadata": {},
     "output_type": "execute_result"
    }
   ],
   "source": [
    "# revisamos valores duplicados en el dataframe de los eventos de los usuarios\n",
    "final_ab_events_upd_us.duplicated().sum()"
   ]
  },
  {
   "cell_type": "code",
   "execution_count": 105,
   "metadata": {},
   "outputs": [
    {
     "data": {
      "text/plain": [
       "0"
      ]
     },
     "execution_count": 105,
     "metadata": {},
     "output_type": "execute_result"
    }
   ],
   "source": [
    "# revisamos valores duplicados en el dataframe de los participantes en la prueba\n",
    "final_ab_participants_upd_us.duplicated().sum()"
   ]
  },
  {
   "cell_type": "markdown",
   "metadata": {},
   "source": [
    "**No tenemos valores faltantes ni duplicados en los set de datos.** Antes de proceder al análisis exploratorio de los datos vamos a unir los dataframes para poder realizar los análisis posteriores."
   ]
  },
  {
   "cell_type": "code",
   "execution_count": 106,
   "metadata": {},
   "outputs": [
    {
     "name": "stdout",
     "output_type": "stream",
     "text": [
      "<class 'pandas.core.frame.DataFrame'>\n",
      "RangeIndex: 423761 entries, 0 to 423760\n",
      "Data columns (total 4 columns):\n",
      " #   Column      Non-Null Count   Dtype         \n",
      "---  ------      --------------   -----         \n",
      " 0   user_id     423761 non-null  object        \n",
      " 1   event_dt    423761 non-null  datetime64[ns]\n",
      " 2   event_name  423761 non-null  object        \n",
      " 3   details     60314 non-null   float64       \n",
      "dtypes: datetime64[ns](1), float64(1), object(2)\n",
      "memory usage: 12.9+ MB\n"
     ]
    }
   ],
   "source": [
    "final_ab_events_upd_us.info()"
   ]
  },
  {
   "cell_type": "code",
   "execution_count": 107,
   "metadata": {},
   "outputs": [
    {
     "data": {
      "text/plain": [
       "(423761, 5)"
      ]
     },
     "execution_count": 107,
     "metadata": {},
     "output_type": "execute_result"
    }
   ],
   "source": [
    "# para unir el dataframe de eventos del usuario con el calendario de eventos necesitamos crear una columna con la fecha de 'event_dt'\n",
    "final_ab_events_upd_us['event_date']=final_ab_events_upd_us['event_dt'].values.astype('datetime64[D]')\n",
    "final_ab_events_upd_us.shape"
   ]
  },
  {
   "cell_type": "code",
   "execution_count": 108,
   "metadata": {},
   "outputs": [
    {
     "data": {
      "text/plain": [
       "(423761, 9)"
      ]
     },
     "execution_count": 108,
     "metadata": {},
     "output_type": "execute_result"
    }
   ],
   "source": [
    "# unimos los eventos de los usuarios con su fecha correspondiente en el calendario de eventos \n",
    "ab_users_events=final_ab_events_upd_us.merge(ab_project_marketing_event_us,left_on='event_date',right_on='start_dt',how='left')\n",
    "ab_users_events.shape"
   ]
  },
  {
   "cell_type": "markdown",
   "metadata": {},
   "source": [
    "Tenemos ahora asociado para cada evento el nombre del evento en el calendario. Unamos ahora el registro de usuarios con los datos de los participantes en la prueba."
   ]
  },
  {
   "cell_type": "code",
   "execution_count": 109,
   "metadata": {},
   "outputs": [
    {
     "data": {
      "text/html": [
       "<div>\n",
       "<style scoped>\n",
       "    .dataframe tbody tr th:only-of-type {\n",
       "        vertical-align: middle;\n",
       "    }\n",
       "\n",
       "    .dataframe tbody tr th {\n",
       "        vertical-align: top;\n",
       "    }\n",
       "\n",
       "    .dataframe thead th {\n",
       "        text-align: right;\n",
       "    }\n",
       "</style>\n",
       "<table border=\"1\" class=\"dataframe\">\n",
       "  <thead>\n",
       "    <tr style=\"text-align: right;\">\n",
       "      <th></th>\n",
       "      <th>user_id</th>\n",
       "      <th>first_date</th>\n",
       "      <th>region</th>\n",
       "      <th>device</th>\n",
       "      <th>group</th>\n",
       "      <th>ab_test</th>\n",
       "    </tr>\n",
       "  </thead>\n",
       "  <tbody>\n",
       "    <tr>\n",
       "      <th>0</th>\n",
       "      <td>D72A72121175D8BE</td>\n",
       "      <td>2020-12-07</td>\n",
       "      <td>EU</td>\n",
       "      <td>PC</td>\n",
       "      <td>A</td>\n",
       "      <td>recommender_system_test</td>\n",
       "    </tr>\n",
       "    <tr>\n",
       "      <th>1</th>\n",
       "      <td>2E1BF1D4C37EA01F</td>\n",
       "      <td>2020-12-07</td>\n",
       "      <td>EU</td>\n",
       "      <td>PC</td>\n",
       "      <td>A</td>\n",
       "      <td>interface_eu_test</td>\n",
       "    </tr>\n",
       "    <tr>\n",
       "      <th>2</th>\n",
       "      <td>50734A22C0C63768</td>\n",
       "      <td>2020-12-07</td>\n",
       "      <td>EU</td>\n",
       "      <td>iPhone</td>\n",
       "      <td>B</td>\n",
       "      <td>interface_eu_test</td>\n",
       "    </tr>\n",
       "    <tr>\n",
       "      <th>3</th>\n",
       "      <td>5BE017E9C8CC42F8</td>\n",
       "      <td>2020-12-07</td>\n",
       "      <td>EU</td>\n",
       "      <td>Android</td>\n",
       "      <td>B</td>\n",
       "      <td>interface_eu_test</td>\n",
       "    </tr>\n",
       "    <tr>\n",
       "      <th>4</th>\n",
       "      <td>96F27A054B191457</td>\n",
       "      <td>2020-12-07</td>\n",
       "      <td>EU</td>\n",
       "      <td>iPhone</td>\n",
       "      <td>B</td>\n",
       "      <td>interface_eu_test</td>\n",
       "    </tr>\n",
       "    <tr>\n",
       "      <th>...</th>\n",
       "      <td>...</td>\n",
       "      <td>...</td>\n",
       "      <td>...</td>\n",
       "      <td>...</td>\n",
       "      <td>...</td>\n",
       "      <td>...</td>\n",
       "    </tr>\n",
       "    <tr>\n",
       "      <th>14520</th>\n",
       "      <td>0416B34D35C8C8B8</td>\n",
       "      <td>2020-12-20</td>\n",
       "      <td>EU</td>\n",
       "      <td>Android</td>\n",
       "      <td>A</td>\n",
       "      <td>recommender_system_test</td>\n",
       "    </tr>\n",
       "    <tr>\n",
       "      <th>14521</th>\n",
       "      <td>27007FC1A9B62FC5</td>\n",
       "      <td>2020-12-20</td>\n",
       "      <td>EU</td>\n",
       "      <td>iPhone</td>\n",
       "      <td>B</td>\n",
       "      <td>interface_eu_test</td>\n",
       "    </tr>\n",
       "    <tr>\n",
       "      <th>14522</th>\n",
       "      <td>75F25D4DADA37ABB</td>\n",
       "      <td>2020-12-20</td>\n",
       "      <td>EU</td>\n",
       "      <td>Android</td>\n",
       "      <td>B</td>\n",
       "      <td>interface_eu_test</td>\n",
       "    </tr>\n",
       "    <tr>\n",
       "      <th>14523</th>\n",
       "      <td>2C29721DDDA76B2A</td>\n",
       "      <td>2020-12-20</td>\n",
       "      <td>EU</td>\n",
       "      <td>iPhone</td>\n",
       "      <td>B</td>\n",
       "      <td>interface_eu_test</td>\n",
       "    </tr>\n",
       "    <tr>\n",
       "      <th>14524</th>\n",
       "      <td>1C7D23927835213F</td>\n",
       "      <td>2020-12-20</td>\n",
       "      <td>EU</td>\n",
       "      <td>iPhone</td>\n",
       "      <td>B</td>\n",
       "      <td>interface_eu_test</td>\n",
       "    </tr>\n",
       "  </tbody>\n",
       "</table>\n",
       "<p>14525 rows × 6 columns</p>\n",
       "</div>"
      ],
      "text/plain": [
       "                user_id first_date region   device group  \\\n",
       "0      D72A72121175D8BE 2020-12-07     EU       PC     A   \n",
       "1      2E1BF1D4C37EA01F 2020-12-07     EU       PC     A   \n",
       "2      50734A22C0C63768 2020-12-07     EU   iPhone     B   \n",
       "3      5BE017E9C8CC42F8 2020-12-07     EU  Android     B   \n",
       "4      96F27A054B191457 2020-12-07     EU   iPhone     B   \n",
       "...                 ...        ...    ...      ...   ...   \n",
       "14520  0416B34D35C8C8B8 2020-12-20     EU  Android     A   \n",
       "14521  27007FC1A9B62FC5 2020-12-20     EU   iPhone     B   \n",
       "14522  75F25D4DADA37ABB 2020-12-20     EU  Android     B   \n",
       "14523  2C29721DDDA76B2A 2020-12-20     EU   iPhone     B   \n",
       "14524  1C7D23927835213F 2020-12-20     EU   iPhone     B   \n",
       "\n",
       "                       ab_test  \n",
       "0      recommender_system_test  \n",
       "1            interface_eu_test  \n",
       "2            interface_eu_test  \n",
       "3            interface_eu_test  \n",
       "4            interface_eu_test  \n",
       "...                        ...  \n",
       "14520  recommender_system_test  \n",
       "14521        interface_eu_test  \n",
       "14522        interface_eu_test  \n",
       "14523        interface_eu_test  \n",
       "14524        interface_eu_test  \n",
       "\n",
       "[14525 rows x 6 columns]"
      ]
     },
     "execution_count": 109,
     "metadata": {},
     "output_type": "execute_result"
    }
   ],
   "source": [
    "# creamos un dataframe que contenga los usuarios que se registraron y participaron en la prueba\n",
    "# unimos para cada registro de usuario su participacion en la prueba, unimos usando el 'user_id'\n",
    "ab_users_groups=final_ab_new_users_upd_us.merge(final_ab_participants_upd_us,on='user_id',how='inner')\n",
    "ab_users_groups"
   ]
  },
  {
   "cell_type": "code",
   "execution_count": 111,
   "metadata": {},
   "outputs": [
    {
     "data": {
      "text/html": [
       "<div>\n",
       "<style scoped>\n",
       "    .dataframe tbody tr th:only-of-type {\n",
       "        vertical-align: middle;\n",
       "    }\n",
       "\n",
       "    .dataframe tbody tr th {\n",
       "        vertical-align: top;\n",
       "    }\n",
       "\n",
       "    .dataframe thead th {\n",
       "        text-align: right;\n",
       "    }\n",
       "</style>\n",
       "<table border=\"1\" class=\"dataframe\">\n",
       "  <thead>\n",
       "    <tr style=\"text-align: right;\">\n",
       "      <th></th>\n",
       "      <th>user_id</th>\n",
       "      <th>first_date</th>\n",
       "      <th>region</th>\n",
       "      <th>device</th>\n",
       "      <th>group</th>\n",
       "      <th>ab_test</th>\n",
       "    </tr>\n",
       "  </thead>\n",
       "  <tbody>\n",
       "    <tr>\n",
       "      <th>0</th>\n",
       "      <td>D72A72121175D8BE</td>\n",
       "      <td>2020-12-07</td>\n",
       "      <td>EU</td>\n",
       "      <td>PC</td>\n",
       "      <td>A</td>\n",
       "      <td>recommender_system_test</td>\n",
       "    </tr>\n",
       "    <tr>\n",
       "      <th>1</th>\n",
       "      <td>2E1BF1D4C37EA01F</td>\n",
       "      <td>2020-12-07</td>\n",
       "      <td>EU</td>\n",
       "      <td>PC</td>\n",
       "      <td>A</td>\n",
       "      <td>interface_eu_test</td>\n",
       "    </tr>\n",
       "    <tr>\n",
       "      <th>2</th>\n",
       "      <td>50734A22C0C63768</td>\n",
       "      <td>2020-12-07</td>\n",
       "      <td>EU</td>\n",
       "      <td>iPhone</td>\n",
       "      <td>B</td>\n",
       "      <td>interface_eu_test</td>\n",
       "    </tr>\n",
       "    <tr>\n",
       "      <th>3</th>\n",
       "      <td>5BE017E9C8CC42F8</td>\n",
       "      <td>2020-12-07</td>\n",
       "      <td>EU</td>\n",
       "      <td>Android</td>\n",
       "      <td>B</td>\n",
       "      <td>interface_eu_test</td>\n",
       "    </tr>\n",
       "    <tr>\n",
       "      <th>4</th>\n",
       "      <td>96F27A054B191457</td>\n",
       "      <td>2020-12-07</td>\n",
       "      <td>EU</td>\n",
       "      <td>iPhone</td>\n",
       "      <td>B</td>\n",
       "      <td>interface_eu_test</td>\n",
       "    </tr>\n",
       "    <tr>\n",
       "      <th>...</th>\n",
       "      <td>...</td>\n",
       "      <td>...</td>\n",
       "      <td>...</td>\n",
       "      <td>...</td>\n",
       "      <td>...</td>\n",
       "      <td>...</td>\n",
       "    </tr>\n",
       "    <tr>\n",
       "      <th>14520</th>\n",
       "      <td>0416B34D35C8C8B8</td>\n",
       "      <td>2020-12-20</td>\n",
       "      <td>EU</td>\n",
       "      <td>Android</td>\n",
       "      <td>A</td>\n",
       "      <td>recommender_system_test</td>\n",
       "    </tr>\n",
       "    <tr>\n",
       "      <th>14521</th>\n",
       "      <td>27007FC1A9B62FC5</td>\n",
       "      <td>2020-12-20</td>\n",
       "      <td>EU</td>\n",
       "      <td>iPhone</td>\n",
       "      <td>B</td>\n",
       "      <td>interface_eu_test</td>\n",
       "    </tr>\n",
       "    <tr>\n",
       "      <th>14522</th>\n",
       "      <td>75F25D4DADA37ABB</td>\n",
       "      <td>2020-12-20</td>\n",
       "      <td>EU</td>\n",
       "      <td>Android</td>\n",
       "      <td>B</td>\n",
       "      <td>interface_eu_test</td>\n",
       "    </tr>\n",
       "    <tr>\n",
       "      <th>14523</th>\n",
       "      <td>2C29721DDDA76B2A</td>\n",
       "      <td>2020-12-20</td>\n",
       "      <td>EU</td>\n",
       "      <td>iPhone</td>\n",
       "      <td>B</td>\n",
       "      <td>interface_eu_test</td>\n",
       "    </tr>\n",
       "    <tr>\n",
       "      <th>14524</th>\n",
       "      <td>1C7D23927835213F</td>\n",
       "      <td>2020-12-20</td>\n",
       "      <td>EU</td>\n",
       "      <td>iPhone</td>\n",
       "      <td>B</td>\n",
       "      <td>interface_eu_test</td>\n",
       "    </tr>\n",
       "  </tbody>\n",
       "</table>\n",
       "<p>12557 rows × 6 columns</p>\n",
       "</div>"
      ],
      "text/plain": [
       "                user_id first_date region   device group  \\\n",
       "0      D72A72121175D8BE 2020-12-07     EU       PC     A   \n",
       "1      2E1BF1D4C37EA01F 2020-12-07     EU       PC     A   \n",
       "2      50734A22C0C63768 2020-12-07     EU   iPhone     B   \n",
       "3      5BE017E9C8CC42F8 2020-12-07     EU  Android     B   \n",
       "4      96F27A054B191457 2020-12-07     EU   iPhone     B   \n",
       "...                 ...        ...    ...      ...   ...   \n",
       "14520  0416B34D35C8C8B8 2020-12-20     EU  Android     A   \n",
       "14521  27007FC1A9B62FC5 2020-12-20     EU   iPhone     B   \n",
       "14522  75F25D4DADA37ABB 2020-12-20     EU  Android     B   \n",
       "14523  2C29721DDDA76B2A 2020-12-20     EU   iPhone     B   \n",
       "14524  1C7D23927835213F 2020-12-20     EU   iPhone     B   \n",
       "\n",
       "                       ab_test  \n",
       "0      recommender_system_test  \n",
       "1            interface_eu_test  \n",
       "2            interface_eu_test  \n",
       "3            interface_eu_test  \n",
       "4            interface_eu_test  \n",
       "...                        ...  \n",
       "14520  recommender_system_test  \n",
       "14521        interface_eu_test  \n",
       "14522        interface_eu_test  \n",
       "14523        interface_eu_test  \n",
       "14524        interface_eu_test  \n",
       "\n",
       "[12557 rows x 6 columns]"
      ]
     },
     "execution_count": 111,
     "metadata": {},
     "output_type": "execute_result"
    }
   ],
   "source": [
    "# Filtrar el DataFrame para mantener solo la región 'EU'\n",
    "ab_users_groups = ab_users_groups[ab_users_groups['region'] == 'EU']\n",
    "\n",
    "# Encuentra los usuarios que están en ambos tests\n",
    "users_in_both_tests = recommender_system_users & interface_eu_users\n",
    "\n",
    "# Filtra y modifica el DataFrame original para eliminar las filas con usuarios en ambos tests\n",
    "ab_users_groups = ab_users_groups[~ab_users_groups['user_id'].isin(users_in_both_tests)]\n",
    "\n",
    "# Ahora ab_users_groups contiene solo los usuarios que no están en ambos tests A/B\n",
    "ab_users_groups"
   ]
  },
  {
   "cell_type": "markdown",
   "metadata": {},
   "source": [
    "En este fragmento de código, se realizan varias operaciones en un DataFrame llamado ab_events_users_groups. El objetivo principal parece ser la manipulación de datos relacionados con pruebas A/B para analizar el comportamiento de los usuarios en diferentes tests.\n",
    "\n",
    "El código se enfoca en trabajar con datos de usuarios de la región de EU que participaron en pruebas A/B. Primero, se filtran los datos por región. Luego, se identifican los usuarios que participaron en dos pruebas específicas y se eliminan del DataFrame aquellos usuarios que forman parte de ambos conjuntos de usuarios, con el objetivo de garantizar un análisis más preciso y evitar duplicaciones en los datos."
   ]
  },
  {
   "cell_type": "code",
   "execution_count": 112,
   "metadata": {},
   "outputs": [
    {
     "data": {
      "text/plain": [
       "ab_test                  group\n",
       "interface_eu_test        A        5011\n",
       "                         B        4952\n",
       "recommender_system_test  A        1939\n",
       "                         B         655\n",
       "Name: group, dtype: int64"
      ]
     },
     "execution_count": 112,
     "metadata": {},
     "output_type": "execute_result"
    }
   ],
   "source": [
    "# agrupamos por la columna 'ab_test' para saber cuantos usuarios hay entre grupos\n",
    "ab_users_groups.groupby('ab_test')['group'].value_counts()"
   ]
  },
  {
   "cell_type": "markdown",
   "metadata": {},
   "source": [
    "El número de eventos por usuario no está distribuido equitativamente entre las muestras en todas las pruebas.\n",
    "\n",
    "Si observamos los datos proporcionados para las pruebas 'interface_eu_test' y 'recommender_system_test', podemos ver lo siguiente:\n",
    "\n",
    "En la prueba 'interface_eu_test', el Grupo A tiene 5467 eventos por usuario, mientras que el Grupo B tiene 5383 eventos por usuario. En este caso, la diferencia no es significativa y la distribución es bastante equitativa entre los grupos.\n",
    "\n",
    "En cambio, en la prueba 'recommender_system_test', hay una discrepancia notable en la distribución. El Grupo A tiene 2747 eventos por usuario, mientras que el Grupo B tiene solamente 928 eventos por usuario. Aquí, la distribución no es equitativa y la muestra del Grupo B tiene un número mucho menor de eventos por usuario en comparación con el Grupo A.\n",
    "\n",
    "En resumen, la distribución de eventos por usuario varía entre las muestras según la prueba. Mientras que en 'interface_eu_test' la distribución es equitativa, en 'recommender_system_test' hay una disparidad considerable en el número de eventos por usuario entre los dos grupos."
   ]
  },
  {
   "cell_type": "code",
   "execution_count": 113,
   "metadata": {},
   "outputs": [
    {
     "data": {
      "text/plain": [
       "(2594, 6)"
      ]
     },
     "execution_count": 113,
     "metadata": {},
     "output_type": "execute_result"
    }
   ],
   "source": [
    "# creamos un dataframe para los usuarios que participaron unicamente en la prueba 'recommender_system_test'\n",
    "ab_users_groups_system=ab_users_groups.query('ab_test==\"recommender_system_test\"')\n",
    "ab_users_groups_system.shape"
   ]
  },
  {
   "cell_type": "code",
   "execution_count": 114,
   "metadata": {},
   "outputs": [
    {
     "data": {
      "text/html": [
       "<div>\n",
       "<style scoped>\n",
       "    .dataframe tbody tr th:only-of-type {\n",
       "        vertical-align: middle;\n",
       "    }\n",
       "\n",
       "    .dataframe tbody tr th {\n",
       "        vertical-align: top;\n",
       "    }\n",
       "\n",
       "    .dataframe thead th {\n",
       "        text-align: right;\n",
       "    }\n",
       "</style>\n",
       "<table border=\"1\" class=\"dataframe\">\n",
       "  <thead>\n",
       "    <tr style=\"text-align: right;\">\n",
       "      <th></th>\n",
       "      <th>user_id</th>\n",
       "      <th>event_dt</th>\n",
       "      <th>event_name</th>\n",
       "      <th>details</th>\n",
       "      <th>event_date</th>\n",
       "      <th>name</th>\n",
       "      <th>regions</th>\n",
       "      <th>start_dt</th>\n",
       "      <th>finish_dt</th>\n",
       "      <th>first_date</th>\n",
       "      <th>region</th>\n",
       "      <th>device</th>\n",
       "      <th>group</th>\n",
       "      <th>ab_test</th>\n",
       "    </tr>\n",
       "  </thead>\n",
       "  <tbody>\n",
       "    <tr>\n",
       "      <th>8421</th>\n",
       "      <td>A81312977901914F</td>\n",
       "      <td>2020-12-15 07:15:32</td>\n",
       "      <td>login</td>\n",
       "      <td>NaN</td>\n",
       "      <td>2020-12-15</td>\n",
       "      <td>NaN</td>\n",
       "      <td>NaN</td>\n",
       "      <td>NaT</td>\n",
       "      <td>NaT</td>\n",
       "      <td>2020-12-14</td>\n",
       "      <td>EU</td>\n",
       "      <td>PC</td>\n",
       "      <td>A</td>\n",
       "      <td>recommender_system_test</td>\n",
       "    </tr>\n",
       "    <tr>\n",
       "      <th>15650</th>\n",
       "      <td>FD11BEB17BD1E5F1</td>\n",
       "      <td>2020-12-28 05:59:00</td>\n",
       "      <td>login</td>\n",
       "      <td>NaN</td>\n",
       "      <td>2020-12-28</td>\n",
       "      <td>NaN</td>\n",
       "      <td>NaN</td>\n",
       "      <td>NaT</td>\n",
       "      <td>NaT</td>\n",
       "      <td>2020-12-09</td>\n",
       "      <td>EU</td>\n",
       "      <td>PC</td>\n",
       "      <td>B</td>\n",
       "      <td>recommender_system_test</td>\n",
       "    </tr>\n",
       "    <tr>\n",
       "      <th>9094</th>\n",
       "      <td>390D39CDD3AAC703</td>\n",
       "      <td>2020-12-23 01:11:28</td>\n",
       "      <td>product_page</td>\n",
       "      <td>NaN</td>\n",
       "      <td>2020-12-23</td>\n",
       "      <td>NaN</td>\n",
       "      <td>NaN</td>\n",
       "      <td>NaT</td>\n",
       "      <td>NaT</td>\n",
       "      <td>2020-12-16</td>\n",
       "      <td>EU</td>\n",
       "      <td>Android</td>\n",
       "      <td>A</td>\n",
       "      <td>recommender_system_test</td>\n",
       "    </tr>\n",
       "    <tr>\n",
       "      <th>5060</th>\n",
       "      <td>991220A6485D2BA1</td>\n",
       "      <td>2020-12-19 03:05:45</td>\n",
       "      <td>login</td>\n",
       "      <td>NaN</td>\n",
       "      <td>2020-12-19</td>\n",
       "      <td>NaN</td>\n",
       "      <td>NaN</td>\n",
       "      <td>NaT</td>\n",
       "      <td>NaT</td>\n",
       "      <td>2020-12-19</td>\n",
       "      <td>EU</td>\n",
       "      <td>PC</td>\n",
       "      <td>A</td>\n",
       "      <td>recommender_system_test</td>\n",
       "    </tr>\n",
       "    <tr>\n",
       "      <th>5174</th>\n",
       "      <td>AAED5CBA66F1C55B</td>\n",
       "      <td>2020-12-22 15:09:29</td>\n",
       "      <td>login</td>\n",
       "      <td>NaN</td>\n",
       "      <td>2020-12-22</td>\n",
       "      <td>NaN</td>\n",
       "      <td>NaN</td>\n",
       "      <td>NaT</td>\n",
       "      <td>NaT</td>\n",
       "      <td>2020-12-19</td>\n",
       "      <td>EU</td>\n",
       "      <td>PC</td>\n",
       "      <td>A</td>\n",
       "      <td>recommender_system_test</td>\n",
       "    </tr>\n",
       "  </tbody>\n",
       "</table>\n",
       "</div>"
      ],
      "text/plain": [
       "                user_id            event_dt    event_name  details event_date  \\\n",
       "8421   A81312977901914F 2020-12-15 07:15:32         login      NaN 2020-12-15   \n",
       "15650  FD11BEB17BD1E5F1 2020-12-28 05:59:00         login      NaN 2020-12-28   \n",
       "9094   390D39CDD3AAC703 2020-12-23 01:11:28  product_page      NaN 2020-12-23   \n",
       "5060   991220A6485D2BA1 2020-12-19 03:05:45         login      NaN 2020-12-19   \n",
       "5174   AAED5CBA66F1C55B 2020-12-22 15:09:29         login      NaN 2020-12-22   \n",
       "\n",
       "      name regions start_dt finish_dt first_date region   device group  \\\n",
       "8421   NaN     NaN      NaT       NaT 2020-12-14     EU       PC     A   \n",
       "15650  NaN     NaN      NaT       NaT 2020-12-09     EU       PC     B   \n",
       "9094   NaN     NaN      NaT       NaT 2020-12-16     EU  Android     A   \n",
       "5060   NaN     NaN      NaT       NaT 2020-12-19     EU       PC     A   \n",
       "5174   NaN     NaN      NaT       NaT 2020-12-19     EU       PC     A   \n",
       "\n",
       "                       ab_test  \n",
       "8421   recommender_system_test  \n",
       "15650  recommender_system_test  \n",
       "9094   recommender_system_test  \n",
       "5060   recommender_system_test  \n",
       "5174   recommender_system_test  "
      ]
     },
     "execution_count": 114,
     "metadata": {},
     "output_type": "execute_result"
    }
   ],
   "source": [
    "# creamos un dataframe que contenga los eventos para los usuarios que participaron en la prueba\n",
    "# unimos ahora los dataframe 'ab_users_events' y 'ab_users_groups_system' para poder asociar eventos y usuarios en los grupos de prueba\n",
    "ab_events_users_groups=ab_users_events.merge(ab_users_groups_system,on='user_id',how='inner')\n",
    "ab_events_users_groups.sample(5) # El objetivo es establecer una conexión entre los sucesos registrados y los usuarios agrupados en los contextos de prueba. Finalmente, presentamos una selección aleatoria de 10 entradas de este conjunto combinado para obtener una visión de la información."
   ]
  },
  {
   "cell_type": "code",
   "execution_count": 115,
   "metadata": {},
   "outputs": [
    {
     "data": {
      "text/plain": [
       "(16959, 14)"
      ]
     },
     "execution_count": 115,
     "metadata": {},
     "output_type": "execute_result"
    }
   ],
   "source": [
    "# mostramos el tamaño del dataframe creado\n",
    "ab_events_users_groups.shape"
   ]
  },
  {
   "cell_type": "code",
   "execution_count": 116,
   "metadata": {},
   "outputs": [],
   "source": [
    "# obtenemos la lista de clientes del grupo A\n",
    "list_clientsA=ab_events_users_groups[ab_events_users_groups['group']=='A']['user_id'].unique()"
   ]
  },
  {
   "cell_type": "code",
   "execution_count": 117,
   "metadata": {},
   "outputs": [],
   "source": [
    "# obtenemos la lista de clientes del grupo\n",
    "list_clientsB=ab_events_users_groups[ab_events_users_groups['group']=='B']['user_id'].unique()"
   ]
  },
  {
   "cell_type": "code",
   "execution_count": 118,
   "metadata": {},
   "outputs": [
    {
     "name": "stdout",
     "output_type": "stream",
     "text": [
      "Hay 0 usuarios que aparecen en ambos grupos.\n"
     ]
    }
   ],
   "source": [
    "\"creamos dos conjuntos con los 'user_id' de cada grupo y buscamos su intersección para ver los usuarios que aparecen en ambos conjunto\"\n",
    "\n",
    "set1 = set(list_clientsA)\n",
    "set2 = set(list_clientsB)\n",
    "set3 = set1 & set2\n",
    "\n",
    "# usuarios en ambos grupos\n",
    "list_clientsAB = list(set3)\n",
    "print(f'Hay {len(list_clientsAB)} usuarios que aparecen en ambos grupos.')"
   ]
  },
  {
   "cell_type": "markdown",
   "metadata": {},
   "source": [
    "## Análisis exploratorio de los datos"
   ]
  },
  {
   "cell_type": "code",
   "execution_count": 119,
   "metadata": {},
   "outputs": [
    {
     "data": {
      "text/html": [
       "<div>\n",
       "<style scoped>\n",
       "    .dataframe tbody tr th:only-of-type {\n",
       "        vertical-align: middle;\n",
       "    }\n",
       "\n",
       "    .dataframe tbody tr th {\n",
       "        vertical-align: top;\n",
       "    }\n",
       "\n",
       "    .dataframe thead th {\n",
       "        text-align: right;\n",
       "    }\n",
       "</style>\n",
       "<table border=\"1\" class=\"dataframe\">\n",
       "  <thead>\n",
       "    <tr style=\"text-align: right;\">\n",
       "      <th></th>\n",
       "      <th>group</th>\n",
       "      <th>event_name</th>\n",
       "      <th>proportion</th>\n",
       "    </tr>\n",
       "  </thead>\n",
       "  <tbody>\n",
       "    <tr>\n",
       "      <th>0</th>\n",
       "      <td>A</td>\n",
       "      <td>login</td>\n",
       "      <td>0.443204</td>\n",
       "    </tr>\n",
       "    <tr>\n",
       "      <th>1</th>\n",
       "      <td>A</td>\n",
       "      <td>product_page</td>\n",
       "      <td>0.287072</td>\n",
       "    </tr>\n",
       "    <tr>\n",
       "      <th>2</th>\n",
       "      <td>A</td>\n",
       "      <td>product_cart</td>\n",
       "      <td>0.135918</td>\n",
       "    </tr>\n",
       "    <tr>\n",
       "      <th>3</th>\n",
       "      <td>A</td>\n",
       "      <td>purchase</td>\n",
       "      <td>0.133806</td>\n",
       "    </tr>\n",
       "    <tr>\n",
       "      <th>4</th>\n",
       "      <td>B</td>\n",
       "      <td>login</td>\n",
       "      <td>0.481221</td>\n",
       "    </tr>\n",
       "    <tr>\n",
       "      <th>5</th>\n",
       "      <td>B</td>\n",
       "      <td>product_page</td>\n",
       "      <td>0.255607</td>\n",
       "    </tr>\n",
       "    <tr>\n",
       "      <th>6</th>\n",
       "      <td>B</td>\n",
       "      <td>product_cart</td>\n",
       "      <td>0.132126</td>\n",
       "    </tr>\n",
       "    <tr>\n",
       "      <th>7</th>\n",
       "      <td>B</td>\n",
       "      <td>purchase</td>\n",
       "      <td>0.131046</td>\n",
       "    </tr>\n",
       "  </tbody>\n",
       "</table>\n",
       "</div>"
      ],
      "text/plain": [
       "  group    event_name  proportion\n",
       "0     A         login    0.443204\n",
       "1     A  product_page    0.287072\n",
       "2     A  product_cart    0.135918\n",
       "3     A      purchase    0.133806\n",
       "4     B         login    0.481221\n",
       "5     B  product_page    0.255607\n",
       "6     B  product_cart    0.132126\n",
       "7     B      purchase    0.131046"
      ]
     },
     "execution_count": 119,
     "metadata": {},
     "output_type": "execute_result"
    }
   ],
   "source": [
    "# veamos la distribución de los distintos tipos de eventos dentro de los grupos\n",
    "event_proportion=ab_events_users_groups.groupby('group')['event_name'].value_counts(normalize=True)\n",
    "event_proportion.name='proportion'\n",
    "event_proportion=event_proportion.reset_index()\n",
    "event_proportion"
   ]
  },
  {
   "cell_type": "code",
   "execution_count": 120,
   "metadata": {},
   "outputs": [
    {
     "data": {
      "image/png": "[encoded data removed]",
      "text/plain": [
       "<Figure size 720x432 with 1 Axes>"
      ]
     },
     "metadata": {
      "needs_background": "light"
     },
     "output_type": "display_data"
    }
   ],
   "source": [
    "# Crear un gráfico de barras horizontal para la distribución de eventos en cada grupo\n",
    "plt.figure(figsize=(10, 6))\n",
    "sns.barplot(x='proportion', y='group', hue='event_name', data=event_proportion)\n",
    "plt.xlabel('Proporción')\n",
    "plt.ylabel('Grupo')\n",
    "plt.title('Distribución de Eventos en Cada Grupo')\n",
    "plt.legend(title='Tipo de Evento')\n",
    "plt.show()"
   ]
  },
  {
   "cell_type": "code",
   "execution_count": 121,
   "metadata": {},
   "outputs": [
    {
     "data": {
      "image/png": "[encoded data removed]",
      "text/plain": [
       "<Figure size 720x432 with 1 Axes>"
      ]
     },
     "metadata": {
      "needs_background": "light"
     },
     "output_type": "display_data"
    }
   ],
   "source": [
    "# Crear un gráfico de distribución para la cantidad de eventos por usuario\n",
    "plt.figure(figsize=(10, 6))\n",
    "\n",
    "# Obtener la cantidad de eventos por usuario para los grupos A y B\n",
    "num_eventsA = ab_events_users_groups.query('group == \"A\"').groupby('user_id')['event_name'].count()\n",
    "num_eventsB = ab_events_users_groups.query('group == \"B\"').groupby('user_id')['event_name'].count()\n",
    "\n",
    "# Graficar la distribución de la cantidad de eventos por usuario para el grupo A\n",
    "sns.histplot(num_eventsA, color='blue', label='Grupo A', kde=True)\n",
    "\n",
    "# Graficar la distribución de la cantidad de eventos por usuario para el grupo B\n",
    "sns.histplot(num_eventsB, color='red', label='Grupo B', kde=True)\n",
    "\n",
    "plt.title('Distribución de la Cantidad de Eventos por Usuario')\n",
    "plt.xlabel('Cantidad de Eventos por Usuario')\n",
    "plt.ylabel('Frecuencia')\n",
    "plt.legend()\n",
    "plt.show()"
   ]
  },
  {
   "cell_type": "markdown",
   "metadata": {},
   "source": [
    "En el gráfico anterior podemos notar que la cantidad de eventos por usuario tiene una distribución muy similar entre los dos grupos bajo estudio. En cambio a la frecuencia, el grupo A cuenta con mayor ocurrencia a estos eventos."
   ]
  },
  {
   "cell_type": "code",
   "execution_count": 122,
   "metadata": {},
   "outputs": [
    {
     "data": {
      "image/png": "[encoded data removed]",
      "text/plain": [
       "<Figure size 720x432 with 1 Axes>"
      ]
     },
     "metadata": {
      "needs_background": "light"
     },
     "output_type": "display_data"
    }
   ],
   "source": [
    "# Crear un gráfico de distribución de la cantidad de eventos entre los días\n",
    "plt.figure(figsize=(10, 6))\n",
    "sns.histplot(data=ab_events_users_groups, x='event_date', bins=50)\n",
    "plt.xticks(rotation=45, ha='right')\n",
    "plt.title('Distribución del Número de Eventos a lo Largo de los Días')\n",
    "plt.xlabel('Fecha del Evento')\n",
    "plt.ylabel('Frecuencia')\n",
    "plt.show()"
   ]
  },
  {
   "cell_type": "markdown",
   "metadata": {},
   "source": [
    "Hemos observado un notable aumento en la cantidad de eventos a partir del 14 de diciembre de 2020, con un pico máximo el 21 de diciembre y luego una disminución gradual. En los últimos días del año 2020, la actividad registrada es bastante limitada.\n",
    "\n",
    "Es importante resaltar que el mes de diciembre es conocido por ser una época en la que muchas personas realizan compras y dan regalos, especialmente en fechas como el 24, 25 y 31 de diciembre. Esta tendencia de compras podría impactar significativamente en la actividad de navegación y compras en tiendas, tanto en línea como físicas. En consecuencia, cualquier prueba que implique aumentar las compras o la navegación en un sitio web podría verse influida por este aumento estacional en la actividad de compra, en lugar de reflejar los cambios relacionados con la implementación de un sistema de recomendaciones mejorado.\n",
    "\n",
    "Considerando este contexto, sería más prudente considerar la realización de la prueba del nuevo sistema de recomendaciones en un momento distinto, fuera de la temporada navideña. De esta manera, se podría obtener una perspectiva más precisa de cómo afecta el nuevo sistema en condiciones más estables, sin la interferencia de los patrones de compras típicos de esta época del año. Sin embargo, es cierto que en la actual temporada, tenemos la oportunidad de recopilar una gran cantidad de información valiosa para futuros estudios y análisis."
   ]
  },
  {
   "cell_type": "markdown",
   "metadata": {},
   "source": [
    "## Comparación del grupo de control y el grupo de prueba \n",
    "\n",
    "Probaremos si existe diferencia entre los grupos. Vamos a calcular la tasa de conversión de los usuarios en cada uno de los eventos dentro de cada grupo."
   ]
  },
  {
   "cell_type": "code",
   "execution_count": 123,
   "metadata": {},
   "outputs": [],
   "source": [
    "def perform_ttest(data, group_1, group_2, alpha, events):\n",
    "    result_df = pd.DataFrame(columns=['event_name', 'statistics_t', 'p_value', 'alpha', 'p1', 'n_group_1',\n",
    "                                      'p2', 'n_group_2', 'decision_H0', 'compared_groups'])\n",
    "\n",
    "    for event in events:\n",
    "        conversions = data[['user_id', 'group']].drop_duplicates()\n",
    "        converted = pd.DataFrame(data={'user_id': data[data['event_name'] == event]['user_id'].unique(),\n",
    "                                       'converted': 1})\n",
    "        conversions = conversions.merge(converted, on='user_id', how='left')\n",
    "        conversions['converted'] = conversions['converted'].fillna(0)\n",
    "\n",
    "        sample_group_1 = conversions[conversions['group'] == group_1]['converted']\n",
    "        n1 = len(sample_group_1)\n",
    "        p1 = sample_group_1.mean()\n",
    "\n",
    "        sample_group_2 = conversions[conversions['group'] == group_2]['converted']\n",
    "        n2 = len(sample_group_2)\n",
    "        p2 = sample_group_2.mean()\n",
    "\n",
    "        statistics, p_value = st.ttest_ind(sample_group_1, sample_group_2)\n",
    "\n",
    "        if p_value < alpha:\n",
    "            decision = 'Reject H0'\n",
    "        else:\n",
    "            decision = 'Fail to reject H0'\n",
    "\n",
    "        result_df.loc[len(result_df)] = [event, statistics, p_value, alpha, p1, n1, p2, n2,\n",
    "                                         decision, f'{group_1} vs {group_2}']\n",
    "\n",
    "    return result_df\n"
   ]
  },
  {
   "cell_type": "code",
   "execution_count": 124,
   "metadata": {},
   "outputs": [],
   "source": [
    "# obtenemos la lista de los eventos a aplicar la prueba\n",
    "eventos=['product_page','product_cart','purchase']"
   ]
  },
  {
   "cell_type": "markdown",
   "metadata": {},
   "source": [
    "**Vamos a evaluar la siguiente hipótesis para cada tipo de evento:**\n",
    "\n",
    "Hipótesis nula: No hay diferencia en la cantidad de usuarios convertidos entre los grupos que estamos comparando.\n",
    "\n",
    "Hipótesis alternativa: Existe una diferencia en la cantidad de usuarios convertidos entre los grupos que estamos comparando.\n",
    "\n",
    "Dado que estaremos analizando la media de dos conjuntos de datos, vamos a aplicar la prueba estadística 't de Student' (ttest_ind). Esta prueba se llevará a cabo con un nivel de significancia alpha establecido en 0.05. Asimismo, consideraremos que las varianzas de los grupos son comparables en magnitud."
   ]
  },
  {
   "cell_type": "code",
   "execution_count": 125,
   "metadata": {},
   "outputs": [
    {
     "data": {
      "text/html": [
       "<div>\n",
       "<style scoped>\n",
       "    .dataframe tbody tr th:only-of-type {\n",
       "        vertical-align: middle;\n",
       "    }\n",
       "\n",
       "    .dataframe tbody tr th {\n",
       "        vertical-align: top;\n",
       "    }\n",
       "\n",
       "    .dataframe thead th {\n",
       "        text-align: right;\n",
       "    }\n",
       "</style>\n",
       "<table border=\"1\" class=\"dataframe\">\n",
       "  <thead>\n",
       "    <tr style=\"text-align: right;\">\n",
       "      <th></th>\n",
       "      <th>event_name</th>\n",
       "      <th>statistics_t</th>\n",
       "      <th>p_value</th>\n",
       "      <th>alpha</th>\n",
       "      <th>p1</th>\n",
       "      <th>n_group_1</th>\n",
       "      <th>p2</th>\n",
       "      <th>n_group_2</th>\n",
       "      <th>decision_H0</th>\n",
       "      <th>compared_groups</th>\n",
       "    </tr>\n",
       "  </thead>\n",
       "  <tbody>\n",
       "    <tr>\n",
       "      <th>0</th>\n",
       "      <td>product_page</td>\n",
       "      <td>4.231556</td>\n",
       "      <td>0.000024</td>\n",
       "      <td>0.05</td>\n",
       "      <td>0.652398</td>\n",
       "      <td>1939</td>\n",
       "      <td>0.560305</td>\n",
       "      <td>655</td>\n",
       "      <td>Reject H0</td>\n",
       "      <td>A vs B</td>\n",
       "    </tr>\n",
       "    <tr>\n",
       "      <th>1</th>\n",
       "      <td>product_cart</td>\n",
       "      <td>1.105218</td>\n",
       "      <td>0.269168</td>\n",
       "      <td>0.05</td>\n",
       "      <td>0.303765</td>\n",
       "      <td>1939</td>\n",
       "      <td>0.280916</td>\n",
       "      <td>655</td>\n",
       "      <td>Fail to reject H0</td>\n",
       "      <td>A vs B</td>\n",
       "    </tr>\n",
       "    <tr>\n",
       "      <th>2</th>\n",
       "      <td>purchase</td>\n",
       "      <td>1.173951</td>\n",
       "      <td>0.240523</td>\n",
       "      <td>0.05</td>\n",
       "      <td>0.316142</td>\n",
       "      <td>1939</td>\n",
       "      <td>0.291603</td>\n",
       "      <td>655</td>\n",
       "      <td>Fail to reject H0</td>\n",
       "      <td>A vs B</td>\n",
       "    </tr>\n",
       "  </tbody>\n",
       "</table>\n",
       "</div>"
      ],
      "text/plain": [
       "     event_name  statistics_t   p_value  alpha        p1 n_group_1        p2  \\\n",
       "0  product_page      4.231556  0.000024   0.05  0.652398      1939  0.560305   \n",
       "1  product_cart      1.105218  0.269168   0.05  0.303765      1939  0.280916   \n",
       "2      purchase      1.173951  0.240523   0.05  0.316142      1939  0.291603   \n",
       "\n",
       "  n_group_2        decision_H0 compared_groups  \n",
       "0       655          Reject H0          A vs B  \n",
       "1       655  Fail to reject H0          A vs B  \n",
       "2       655  Fail to reject H0          A vs B  "
      ]
     },
     "execution_count": 125,
     "metadata": {},
     "output_type": "execute_result"
    }
   ],
   "source": [
    "# aplicamos la funcion para realizar las pruebas t-test\n",
    "resultados_ttest = perform_ttest(data=ab_events_users_groups, group_1='A', group_2='B', alpha=0.05, events=eventos)\n",
    "resultados_ttest"
   ]
  },
  {
   "cell_type": "markdown",
   "metadata": {},
   "source": [
    "Hemos observado que solamente el evento denominado 'product_cart' no muestra significancia estadística. Esto implica que no tenemos suficiente evidencia para rechazar la hipótesis nula, que establece que la cantidad de usuarios convertidos es similar entre los grupos comparados. Nuestro nivel de confianza es del 95%, según el valor alfa que utilizamos. En resumen, el evento 'product_cart' no parece tener un impacto diferenciado en la conversión entre los grupos bajo estudio."
   ]
  },
  {
   "cell_type": "markdown",
   "metadata": {},
   "source": [
    "### Prueba Z para dos proporciones"
   ]
  },
  {
   "cell_type": "code",
   "execution_count": 126,
   "metadata": {},
   "outputs": [],
   "source": [
    "def perform_ztest(data, group_1, group_2, alpha):\n",
    "    result_df = pd.DataFrame(columns=['event_name', 'statistics_z', 'p_value', 'alpha', 'p1', 'n_group_1',\n",
    "                                      'p2', 'n_group_2', 'decision_H0', 'compared_groups'])\n",
    "\n",
    "    eventos = data['event_name'].unique()\n",
    "\n",
    "    for event in eventos:\n",
    "        conversions = data[['user_id', 'group']].drop_duplicates()\n",
    "        converted = pd.DataFrame(data={'user_id': data[data['event_name'] == event]['user_id'].unique(),\n",
    "                                       'converted': 1})\n",
    "        conversions = conversions.merge(converted, on='user_id', how='left')\n",
    "        conversions['converted'] = conversions['converted'].fillna(0)\n",
    "\n",
    "        sample_group_1 = conversions[conversions['group'] == group_1]['converted']\n",
    "        n1 = len(sample_group_1)\n",
    "        p1 = sample_group_1.mean()\n",
    "\n",
    "        sample_group_2 = conversions[conversions['group'] == group_2]['converted']\n",
    "        n2 = len(sample_group_2)\n",
    "        p2 = sample_group_2.mean()\n",
    "\n",
    "        statistics, p_value = sm.stats.proportions_ztest([n1 * p1, n2 * p2], [n1, n2])\n",
    "\n",
    "        if p_value < alpha:\n",
    "            decision = 'Reject H0'\n",
    "        else:\n",
    "            decision = 'Fail to reject H0'\n",
    "\n",
    "        result_df.loc[len(result_df)] = [event, statistics, p_value, alpha, p1, n1, p2, n2,\n",
    "                                         decision, f'{group_1} vs {group_2}']\n",
    "\n",
    "    return result_df"
   ]
  },
  {
   "cell_type": "markdown",
   "metadata": {},
   "source": [
    "**Vamos a poner a prueba la siguiente hipótesis para cada tipo de evento:**\n",
    "\n",
    "Hipótesis nula: La proporción de usuarios convertidos es idéntica entre los grupos bajo comparación.\n",
    "\n",
    "Hipótesis alternativa: La proporción de usuarios convertidos no es idéntica entre los grupos bajo comparación.\n",
    "\n",
    "Dado que estaremos evaluando la diferencia en proporciones entre dos conjuntos de datos, utilizaremos la prueba estadística 'Z para dos proporciones' (stats.proportions_ztest). Esta prueba se llevará a cabo con un nivel de significancia alpha establecido en 0.05."
   ]
  },
  {
   "cell_type": "code",
   "execution_count": 127,
   "metadata": {},
   "outputs": [
    {
     "data": {
      "text/html": [
       "<div>\n",
       "<style scoped>\n",
       "    .dataframe tbody tr th:only-of-type {\n",
       "        vertical-align: middle;\n",
       "    }\n",
       "\n",
       "    .dataframe tbody tr th {\n",
       "        vertical-align: top;\n",
       "    }\n",
       "\n",
       "    .dataframe thead th {\n",
       "        text-align: right;\n",
       "    }\n",
       "</style>\n",
       "<table border=\"1\" class=\"dataframe\">\n",
       "  <thead>\n",
       "    <tr style=\"text-align: right;\">\n",
       "      <th></th>\n",
       "      <th>event_name</th>\n",
       "      <th>statistics_z</th>\n",
       "      <th>p_value</th>\n",
       "      <th>alpha</th>\n",
       "      <th>p1</th>\n",
       "      <th>n_group_1</th>\n",
       "      <th>p2</th>\n",
       "      <th>n_group_2</th>\n",
       "      <th>decision_H0</th>\n",
       "      <th>compared_groups</th>\n",
       "    </tr>\n",
       "  </thead>\n",
       "  <tbody>\n",
       "    <tr>\n",
       "      <th>0</th>\n",
       "      <td>purchase</td>\n",
       "      <td>1.174092</td>\n",
       "      <td>0.240358</td>\n",
       "      <td>0.05</td>\n",
       "      <td>0.316142</td>\n",
       "      <td>1939</td>\n",
       "      <td>0.291603</td>\n",
       "      <td>655</td>\n",
       "      <td>Fail to reject H0</td>\n",
       "      <td>A vs B</td>\n",
       "    </tr>\n",
       "    <tr>\n",
       "      <th>1</th>\n",
       "      <td>product_cart</td>\n",
       "      <td>1.105384</td>\n",
       "      <td>0.268993</td>\n",
       "      <td>0.05</td>\n",
       "      <td>0.303765</td>\n",
       "      <td>1939</td>\n",
       "      <td>0.280916</td>\n",
       "      <td>655</td>\n",
       "      <td>Fail to reject H0</td>\n",
       "      <td>A vs B</td>\n",
       "    </tr>\n",
       "    <tr>\n",
       "      <th>2</th>\n",
       "      <td>login</td>\n",
       "      <td>1.720886</td>\n",
       "      <td>0.085272</td>\n",
       "      <td>0.05</td>\n",
       "      <td>1.000000</td>\n",
       "      <td>1939</td>\n",
       "      <td>0.998473</td>\n",
       "      <td>655</td>\n",
       "      <td>Fail to reject H0</td>\n",
       "      <td>A vs B</td>\n",
       "    </tr>\n",
       "    <tr>\n",
       "      <th>3</th>\n",
       "      <td>product_page</td>\n",
       "      <td>4.218641</td>\n",
       "      <td>0.000025</td>\n",
       "      <td>0.05</td>\n",
       "      <td>0.652398</td>\n",
       "      <td>1939</td>\n",
       "      <td>0.560305</td>\n",
       "      <td>655</td>\n",
       "      <td>Reject H0</td>\n",
       "      <td>A vs B</td>\n",
       "    </tr>\n",
       "  </tbody>\n",
       "</table>\n",
       "</div>"
      ],
      "text/plain": [
       "     event_name  statistics_z   p_value  alpha        p1 n_group_1        p2  \\\n",
       "0      purchase      1.174092  0.240358   0.05  0.316142      1939  0.291603   \n",
       "1  product_cart      1.105384  0.268993   0.05  0.303765      1939  0.280916   \n",
       "2         login      1.720886  0.085272   0.05  1.000000      1939  0.998473   \n",
       "3  product_page      4.218641  0.000025   0.05  0.652398      1939  0.560305   \n",
       "\n",
       "  n_group_2        decision_H0 compared_groups  \n",
       "0       655  Fail to reject H0          A vs B  \n",
       "1       655  Fail to reject H0          A vs B  \n",
       "2       655  Fail to reject H0          A vs B  \n",
       "3       655          Reject H0          A vs B  "
      ]
     },
     "execution_count": 127,
     "metadata": {},
     "output_type": "execute_result"
    }
   ],
   "source": [
    "# Aplicamos la función para realizar las pruebas z-test\n",
    "resultado_ztest = perform_ztest(data=ab_events_users_groups, group_1='A', group_2='B', alpha=0.05)\n",
    "resultado_ztest"
   ]
  },
  {
   "cell_type": "markdown",
   "metadata": {},
   "source": [
    "\n",
    "Observamos que solamente el evento 'product_cart' carece de significancia estadística, lo que implica que no tenemos suficiente evidencia para rechazar la hipótesis nula de que la proporción de usuarios convertidos es idéntica entre los grupos comparados. Esta observación concuerda con los resultados obtenidos de la prueba 't-test', y ambos análisis se han realizado utilizando un valor alfa del 5%."
   ]
  },
  {
   "cell_type": "markdown",
   "metadata": {},
   "source": [
    "## Conclusión"
   ]
  },
  {
   "cell_type": "markdown",
   "metadata": {},
   "source": [
    "Los eventos 'product_page' y 'purchase' han demostrado diferencias estadísticas significativas en su desempeño. Los valores de p1 en estos eventos sugieren que las proporciones son mayores en el grupo A en comparación con el grupo B. Una posible explicación podría residir en el tamaño de la muestra utilizado en el estudio. Inicialmente, se planificó contar con la participación de seis mil usuarios, sin embargo, en los datos reales solo tenemos registros de 3,1 usuarios..\n",
    "\n",
    "Es interesante notar que el grupo A cuenta con una cantidad considerablemente mayor de usuarios (1939) en comparación con el grupo B (655), lo que resulta en una discrepancia notable entre los tamaños de muestra. Esta disparidad puede influir en los resultados, ya que las diferencias podrían atribuirse tanto a las características intrínsecas de los grupos como a las fluctuaciones naturales en datos de menor tamaño.\n",
    "\n",
    "En resumen, las diferencias estadísticas entre los eventos 'product_page' y 'purchase', junto con las proporciones divergentes observadas, pueden atribuirse al tamaño desigual de las muestras y a la posible variabilidad en el comportamiento de los usuarios en cada grupo."
   ]
  }
 ],
 "metadata": {
  "kernelspec": {
   "display_name": "Python 3 (ipykernel)",
   "language": "python",
   "name": "python3"
  },
  "language_info": {
   "codemirror_mode": {
    "name": "ipython",
    "version": 3
   },
   "file_extension": ".py",
   "mimetype": "text/x-python",
   "name": "python",
   "nbconvert_exporter": "python",
   "pygments_lexer": "ipython3",
   "version": "3.9.5"
  },
  "toc": {
   "base_numbering": 1,
   "nav_menu": {},
   "number_sections": true,
   "sideBar": true,
   "skip_h1_title": true,
   "title_cell": "Table of Contents",
   "title_sidebar": "Contents",
   "toc_cell": false,
   "toc_position": {},
   "toc_section_display": true,
   "toc_window_display": false
  }
 },
 "nbformat": 4,
 "nbformat_minor": 2
}
